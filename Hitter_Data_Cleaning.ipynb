{
 "cells": [
  {
   "cell_type": "markdown",
   "metadata": {},
   "source": [
    "# Hitter Data Cleaning\n",
    "The purpose of this notebook is to clean the hitter scouting report data, as found in scouting_report_scraping.ipynb."
   ]
  },
  {
   "cell_type": "markdown",
   "metadata": {},
   "source": [
    "## Setup/Initiation:"
   ]
  },
  {
   "cell_type": "markdown",
   "metadata": {},
   "source": [
    "First, importing needed packages:"
   ]
  },
  {
   "cell_type": "code",
   "execution_count": 1,
   "metadata": {},
   "outputs": [],
   "source": [
    "import pickle\n",
    "import pandas as pd\n",
    "import matplotlib.pyplot as plt\n",
    "from pylab import rcParams\n",
    "%matplotlib inline\n",
    "rcParams['figure.figsize'] = 20,10\n",
    "import numpy as np\n",
    "import glob\n",
    "from scipy import stats\n",
    "from bs4 import BeautifulSoup\n",
    "import requests\n",
    "import re\n",
    "from IPython.core.display import display, HTML # make sure Jupyter knows to display it as HTML"
   ]
  },
  {
   "cell_type": "markdown",
   "metadata": {},
   "source": [
    "Bringing in the pickled data:"
   ]
  },
  {
   "cell_type": "code",
   "execution_count": 2,
   "metadata": {},
   "outputs": [
    {
     "data": {
      "text/plain": [
       "'/Users/patrickbovard/Documents/GitHub/MLB-Scouting-Reports-Analysis'"
      ]
     },
     "execution_count": 2,
     "metadata": {},
     "output_type": "execute_result"
    }
   ],
   "source": [
    "pwd"
   ]
  },
  {
   "cell_type": "code",
   "execution_count": 3,
   "metadata": {},
   "outputs": [],
   "source": [
    "with open('./Data_Files/initial_hitter_data.pickle', 'rb') as read_file:\n",
    "    initial_hitter_data = pickle.load(read_file)"
   ]
  },
  {
   "cell_type": "code",
   "execution_count": 4,
   "metadata": {},
   "outputs": [
    {
     "data": {
      "text/html": [
       "<div>\n",
       "<style scoped>\n",
       "    .dataframe tbody tr th:only-of-type {\n",
       "        vertical-align: middle;\n",
       "    }\n",
       "\n",
       "    .dataframe tbody tr th {\n",
       "        vertical-align: top;\n",
       "    }\n",
       "\n",
       "    .dataframe thead th {\n",
       "        text-align: right;\n",
       "    }\n",
       "</style>\n",
       "<table border=\"1\" class=\"dataframe\">\n",
       "  <thead>\n",
       "    <tr style=\"text-align: right;\">\n",
       "      <th></th>\n",
       "      <th>Name</th>\n",
       "      <th>Born</th>\n",
       "      <th>Bats</th>\n",
       "      <th>Throws</th>\n",
       "      <th>Height</th>\n",
       "      <th>Weight</th>\n",
       "      <th>Physical_Health</th>\n",
       "      <th>MLB_ETA</th>\n",
       "      <th>Risk_Factor</th>\n",
       "      <th>OFP</th>\n",
       "      <th>...</th>\n",
       "      <th>Power_Grade</th>\n",
       "      <th>Running_Grade</th>\n",
       "      <th>Glove_Grade</th>\n",
       "      <th>Arm_Grade</th>\n",
       "      <th>Hit_Report</th>\n",
       "      <th>Power_Report</th>\n",
       "      <th>Running_Report</th>\n",
       "      <th>Glove_Report</th>\n",
       "      <th>Arm_Report</th>\n",
       "      <th>Overall_Report</th>\n",
       "    </tr>\n",
       "  </thead>\n",
       "  <tbody>\n",
       "    <tr>\n",
       "      <th>0</th>\n",
       "      <td>CJ Abrams</td>\n",
       "      <td>10/03/2000</td>\n",
       "      <td>Left</td>\n",
       "      <td>Right</td>\n",
       "      <td>6' 2\"</td>\n",
       "      <td>185</td>\n",
       "      <td>A pure athlete with quick twitch muscles, very...</td>\n",
       "      <td>2025</td>\n",
       "      <td>Extreme</td>\n",
       "      <td>50</td>\n",
       "      <td>...</td>\n",
       "      <td>40</td>\n",
       "      <td>70</td>\n",
       "      <td>55</td>\n",
       "      <td>60</td>\n",
       "      <td>Very raw as a hitter with a lot of mechanical ...</td>\n",
       "      <td>Beyond needing to gain strength to add to his ...</td>\n",
       "      <td>Easily his best tool, runs like a wide receive...</td>\n",
       "      <td>Good hand-eye coordination and fundamentals, c...</td>\n",
       "      <td>On pure arm strength, it's average to slightly...</td>\n",
       "      <td>Every year there are players drafted purely ba...</td>\n",
       "    </tr>\n",
       "    <tr>\n",
       "      <th>1</th>\n",
       "      <td>Osvaldo Abreu</td>\n",
       "      <td>06/13/1994</td>\n",
       "      <td>Right</td>\n",
       "      <td>Right</td>\n",
       "      <td>6' 0\"</td>\n",
       "      <td>195</td>\n",
       "      <td>Smaller frame with a little room to add streng...</td>\n",
       "      <td>2018</td>\n",
       "      <td>Moderate</td>\n",
       "      <td>45</td>\n",
       "      <td>...</td>\n",
       "      <td>30</td>\n",
       "      <td>55</td>\n",
       "      <td>55</td>\n",
       "      <td>55</td>\n",
       "      <td>Open stance, steady at the plate, hands are ti...</td>\n",
       "      <td>Frame translates to below-average raw power, l...</td>\n",
       "      <td>4.15 clock, above-average foot speed speed, qu...</td>\n",
       "      <td>Quick transfer, flashes soft hands, immature g...</td>\n",
       "      <td>Enough arm strength to make any throw from sho...</td>\n",
       "      <td>Abreu has the defensive chops and arm strength...</td>\n",
       "    </tr>\n",
       "    <tr>\n",
       "      <th>2</th>\n",
       "      <td>Osvaldo Abreu</td>\n",
       "      <td>06/13/1994</td>\n",
       "      <td>Right</td>\n",
       "      <td>Right</td>\n",
       "      <td>6' 0\"</td>\n",
       "      <td>195</td>\n",
       "      <td>Small frame; toned body with muscular definiti...</td>\n",
       "      <td>2019</td>\n",
       "      <td>High</td>\n",
       "      <td>40</td>\n",
       "      <td>...</td>\n",
       "      <td>30</td>\n",
       "      <td>45</td>\n",
       "      <td>50</td>\n",
       "      <td>50</td>\n",
       "      <td>Above-average bat speed; noisy hands; minor hi...</td>\n",
       "      <td>Average raw power; slight leverage and above-a...</td>\n",
       "      <td>4.45 home to first; slow out of the box; more ...</td>\n",
       "      <td>Extremely inconsistent currently; footwork can...</td>\n",
       "      <td>Above-average arm strength; moderate carry and...</td>\n",
       "      <td>Abreu was signed as an international free agen...</td>\n",
       "    </tr>\n",
       "    <tr>\n",
       "      <th>3</th>\n",
       "      <td>Ronald Acuna</td>\n",
       "      <td>12/18/1997</td>\n",
       "      <td>Right</td>\n",
       "      <td>Right</td>\n",
       "      <td>6' 0\"</td>\n",
       "      <td>180</td>\n",
       "      <td>Quick-twitch movement, explosive hands; presen...</td>\n",
       "      <td>2019</td>\n",
       "      <td>High</td>\n",
       "      <td>70</td>\n",
       "      <td>...</td>\n",
       "      <td>60</td>\n",
       "      <td>55</td>\n",
       "      <td>45</td>\n",
       "      <td>55</td>\n",
       "      <td>High hands stay quiet through load, attacks ba...</td>\n",
       "      <td>Plus-plus raw power; outsized raw despite aver...</td>\n",
       "      <td>Times range 4.2-4.3, 4.15 on a leaner out of b...</td>\n",
       "      <td>Uncertain center-field future; above-average r...</td>\n",
       "      <td>Above-average arm for center; would play to av...</td>\n",
       "      <td>Acuna flashes all five tools with quick-twitch...</td>\n",
       "    </tr>\n",
       "    <tr>\n",
       "      <th>4</th>\n",
       "      <td>Ronald Acuna</td>\n",
       "      <td>12/18/1997</td>\n",
       "      <td>Right</td>\n",
       "      <td>Right</td>\n",
       "      <td>6' 0\"</td>\n",
       "      <td>180</td>\n",
       "      <td>Impressive, proportioned athlete with plus str...</td>\n",
       "      <td>2018</td>\n",
       "      <td>Low</td>\n",
       "      <td>80</td>\n",
       "      <td>...</td>\n",
       "      <td>70</td>\n",
       "      <td>55</td>\n",
       "      <td>55</td>\n",
       "      <td>70</td>\n",
       "      <td>High hands (above ear) in set-up. Moderate leg...</td>\n",
       "      <td>Wrist strength and quickness is major asset. G...</td>\n",
       "      <td>4.23 home to first. Faster underway with longe...</td>\n",
       "      <td>Demonstrates good reads and solid first step; ...</td>\n",
       "      <td>One-hopper on line from RF warning track. Thro...</td>\n",
       "      <td>Impressive player ready to contribute now desp...</td>\n",
       "    </tr>\n",
       "  </tbody>\n",
       "</table>\n",
       "<p>5 rows × 21 columns</p>\n",
       "</div>"
      ],
      "text/plain": [
       "            Name        Born   Bats Throws Height Weight  \\\n",
       "0      CJ Abrams  10/03/2000   Left  Right  6' 2\"    185   \n",
       "1  Osvaldo Abreu  06/13/1994  Right  Right  6' 0\"    195   \n",
       "2  Osvaldo Abreu  06/13/1994  Right  Right  6' 0\"    195   \n",
       "3   Ronald Acuna  12/18/1997  Right  Right  6' 0\"    180   \n",
       "4   Ronald Acuna  12/18/1997  Right  Right  6' 0\"    180   \n",
       "\n",
       "                                     Physical_Health MLB_ETA Risk_Factor OFP  \\\n",
       "0  A pure athlete with quick twitch muscles, very...    2025     Extreme  50   \n",
       "1  Smaller frame with a little room to add streng...    2018    Moderate  45   \n",
       "2  Small frame; toned body with muscular definiti...    2019        High  40   \n",
       "3  Quick-twitch movement, explosive hands; presen...    2019        High  70   \n",
       "4  Impressive, proportioned athlete with plus str...    2018         Low  80   \n",
       "\n",
       "   ... Power_Grade Running_Grade Glove_Grade Arm_Grade  \\\n",
       "0  ...          40            70          55        60   \n",
       "1  ...          30            55          55        55   \n",
       "2  ...          30            45          50        50   \n",
       "3  ...          60            55          45        55   \n",
       "4  ...          70            55          55        70   \n",
       "\n",
       "                                          Hit_Report  \\\n",
       "0  Very raw as a hitter with a lot of mechanical ...   \n",
       "1  Open stance, steady at the plate, hands are ti...   \n",
       "2  Above-average bat speed; noisy hands; minor hi...   \n",
       "3  High hands stay quiet through load, attacks ba...   \n",
       "4  High hands (above ear) in set-up. Moderate leg...   \n",
       "\n",
       "                                        Power_Report  \\\n",
       "0  Beyond needing to gain strength to add to his ...   \n",
       "1  Frame translates to below-average raw power, l...   \n",
       "2  Average raw power; slight leverage and above-a...   \n",
       "3  Plus-plus raw power; outsized raw despite aver...   \n",
       "4  Wrist strength and quickness is major asset. G...   \n",
       "\n",
       "                                      Running_Report  \\\n",
       "0  Easily his best tool, runs like a wide receive...   \n",
       "1  4.15 clock, above-average foot speed speed, qu...   \n",
       "2  4.45 home to first; slow out of the box; more ...   \n",
       "3  Times range 4.2-4.3, 4.15 on a leaner out of b...   \n",
       "4  4.23 home to first. Faster underway with longe...   \n",
       "\n",
       "                                        Glove_Report  \\\n",
       "0  Good hand-eye coordination and fundamentals, c...   \n",
       "1  Quick transfer, flashes soft hands, immature g...   \n",
       "2  Extremely inconsistent currently; footwork can...   \n",
       "3  Uncertain center-field future; above-average r...   \n",
       "4  Demonstrates good reads and solid first step; ...   \n",
       "\n",
       "                                          Arm_Report  \\\n",
       "0  On pure arm strength, it's average to slightly...   \n",
       "1  Enough arm strength to make any throw from sho...   \n",
       "2  Above-average arm strength; moderate carry and...   \n",
       "3  Above-average arm for center; would play to av...   \n",
       "4  One-hopper on line from RF warning track. Thro...   \n",
       "\n",
       "                                      Overall_Report  \n",
       "0  Every year there are players drafted purely ba...  \n",
       "1  Abreu has the defensive chops and arm strength...  \n",
       "2  Abreu was signed as an international free agen...  \n",
       "3  Acuna flashes all five tools with quick-twitch...  \n",
       "4  Impressive player ready to contribute now desp...  \n",
       "\n",
       "[5 rows x 21 columns]"
      ]
     },
     "execution_count": 4,
     "metadata": {},
     "output_type": "execute_result"
    }
   ],
   "source": [
    "initial_hitter_data.head()"
   ]
  },
  {
   "cell_type": "code",
   "execution_count": 5,
   "metadata": {
    "scrolled": true
   },
   "outputs": [
    {
     "data": {
      "text/plain": [
       "(524, 21)"
      ]
     },
     "execution_count": 5,
     "metadata": {},
     "output_type": "execute_result"
    }
   ],
   "source": [
    "initial_hitter_data.shape"
   ]
  },
  {
   "cell_type": "markdown",
   "metadata": {},
   "source": [
    "All the data is here, 524 batters with 21 hitting columns. "
   ]
  },
  {
   "cell_type": "code",
   "execution_count": 6,
   "metadata": {},
   "outputs": [
    {
     "name": "stdout",
     "output_type": "stream",
     "text": [
      "<class 'pandas.core.frame.DataFrame'>\n",
      "RangeIndex: 524 entries, 0 to 523\n",
      "Data columns (total 21 columns):\n",
      " #   Column           Non-Null Count  Dtype \n",
      "---  ------           --------------  ----- \n",
      " 0   Name             524 non-null    object\n",
      " 1   Born             524 non-null    object\n",
      " 2   Bats             524 non-null    object\n",
      " 3   Throws           524 non-null    object\n",
      " 4   Height           524 non-null    object\n",
      " 5   Weight           524 non-null    object\n",
      " 6   Physical_Health  524 non-null    object\n",
      " 7   MLB_ETA          524 non-null    object\n",
      " 8   Risk_Factor      524 non-null    object\n",
      " 9   OFP              524 non-null    object\n",
      " 10  Hit_Grade        524 non-null    object\n",
      " 11  Power_Grade      524 non-null    object\n",
      " 12  Running_Grade    524 non-null    object\n",
      " 13  Glove_Grade      524 non-null    object\n",
      " 14  Arm_Grade        524 non-null    object\n",
      " 15  Hit_Report       524 non-null    object\n",
      " 16  Power_Report     524 non-null    object\n",
      " 17  Running_Report   524 non-null    object\n",
      " 18  Glove_Report     524 non-null    object\n",
      " 19  Arm_Report       524 non-null    object\n",
      " 20  Overall_Report   524 non-null    object\n",
      "dtypes: object(21)\n",
      "memory usage: 86.1+ KB\n"
     ]
    }
   ],
   "source": [
    "initial_hitter_data.info()"
   ]
  },
  {
   "cell_type": "markdown",
   "metadata": {},
   "source": [
    "## Initial Cleaning\n",
    "First up, the following columns will need to have their type changed or adjusted.  This will be done before text cleaning, to prepare the dataframe:\n",
    "- Born: datetime, used to find age\n",
    "- Bats/Throws: one hot encode to get to 1/0 for bats/throws right/left (will need another value for switch hitters)\n",
    "- Height (convert to inches)\n",
    "- Weight: numerical\n",
    "- MLB ETA (year, perhaps for age relative to ETA)\n",
    "- OFP and all other grades: numerical (int)\n",
    "I'll start by building out functions to tackle these down the list."
   ]
  },
  {
   "cell_type": "markdown",
   "metadata": {},
   "source": [
    "### Grades and Weight\n",
    "This is the simplest, I just need to change these to numerical.  Functions are being written in hitter_cleaning.py for cleanliness of the notebook."
   ]
  },
  {
   "cell_type": "code",
   "execution_count": 7,
   "metadata": {},
   "outputs": [],
   "source": [
    "#List of the columns needed:\n",
    "num_col_list = ['Weight', 'OFP'] #will use if '_Grade' in col for the grade columns, rather than typing out each one"
   ]
  },
  {
   "cell_type": "code",
   "execution_count": 8,
   "metadata": {},
   "outputs": [],
   "source": [
    "from hitter_cleaning import num_col_maker, grade_num_col_maker, numerical_columns_combined"
   ]
  },
  {
   "cell_type": "code",
   "execution_count": 9,
   "metadata": {},
   "outputs": [],
   "source": [
    "numerical_df = numerical_columns_combined(initial_hitter_data, num_col_list)"
   ]
  },
  {
   "cell_type": "code",
   "execution_count": 10,
   "metadata": {},
   "outputs": [
    {
     "name": "stdout",
     "output_type": "stream",
     "text": [
      "<class 'pandas.core.frame.DataFrame'>\n",
      "RangeIndex: 524 entries, 0 to 523\n",
      "Data columns (total 21 columns):\n",
      " #   Column             Non-Null Count  Dtype \n",
      "---  ------             --------------  ----- \n",
      " 0   Name               524 non-null    object\n",
      " 1   Born               524 non-null    object\n",
      " 2   Bats               524 non-null    object\n",
      " 3   Throws             524 non-null    object\n",
      " 4   Height             524 non-null    object\n",
      " 5   Physical_Health    524 non-null    object\n",
      " 6   MLB_ETA            524 non-null    object\n",
      " 7   Risk_Factor        524 non-null    object\n",
      " 8   Hit_Report         524 non-null    object\n",
      " 9   Power_Report       524 non-null    object\n",
      " 10  Running_Report     524 non-null    object\n",
      " 11  Glove_Report       524 non-null    object\n",
      " 12  Arm_Report         524 non-null    object\n",
      " 13  Overall_Report     524 non-null    object\n",
      " 14  Weight_Num         524 non-null    int64 \n",
      " 15  OFP_Num            524 non-null    int64 \n",
      " 16  Hit_Grade_Num      524 non-null    int64 \n",
      " 17  Power_Grade_Num    524 non-null    int64 \n",
      " 18  Running_Grade_Num  524 non-null    int64 \n",
      " 19  Glove_Grade_Num    524 non-null    int64 \n",
      " 20  Arm_Grade_Num      524 non-null    int64 \n",
      "dtypes: int64(7), object(14)\n",
      "memory usage: 86.1+ KB\n"
     ]
    }
   ],
   "source": [
    "numerical_df.info()"
   ]
  },
  {
   "cell_type": "markdown",
   "metadata": {},
   "source": [
    "### Bats and Throws\n",
    "In order to use this for any quantitative purposes, will need to convert the bats and throws columns to numeric values (i.e. 1/0)."
   ]
  },
  {
   "cell_type": "code",
   "execution_count": 11,
   "metadata": {},
   "outputs": [
    {
     "data": {
      "text/plain": [
       "Right     268\n",
       "Left      184\n",
       "Switch     71\n",
       "            1\n",
       "Name: Bats, dtype: int64"
      ]
     },
     "execution_count": 11,
     "metadata": {},
     "output_type": "execute_result"
    }
   ],
   "source": [
    "numerical_df.Bats.value_counts()"
   ]
  },
  {
   "cell_type": "code",
   "execution_count": 12,
   "metadata": {},
   "outputs": [
    {
     "data": {
      "text/plain": [
       "Right    447\n",
       "Left      76\n",
       "           1\n",
       "Name: Throws, dtype: int64"
      ]
     },
     "execution_count": 12,
     "metadata": {},
     "output_type": "execute_result"
    }
   ],
   "source": [
    "numerical_df.Throws.value_counts()"
   ]
  },
  {
   "cell_type": "markdown",
   "metadata": {},
   "source": [
    "Before getting in, checking out those blanks:"
   ]
  },
  {
   "cell_type": "code",
   "execution_count": 13,
   "metadata": {},
   "outputs": [
    {
     "data": {
      "text/html": [
       "<div>\n",
       "<style scoped>\n",
       "    .dataframe tbody tr th:only-of-type {\n",
       "        vertical-align: middle;\n",
       "    }\n",
       "\n",
       "    .dataframe tbody tr th {\n",
       "        vertical-align: top;\n",
       "    }\n",
       "\n",
       "    .dataframe thead th {\n",
       "        text-align: right;\n",
       "    }\n",
       "</style>\n",
       "<table border=\"1\" class=\"dataframe\">\n",
       "  <thead>\n",
       "    <tr style=\"text-align: right;\">\n",
       "      <th></th>\n",
       "      <th>Name</th>\n",
       "      <th>Born</th>\n",
       "      <th>Bats</th>\n",
       "      <th>Throws</th>\n",
       "      <th>Height</th>\n",
       "      <th>Physical_Health</th>\n",
       "      <th>MLB_ETA</th>\n",
       "      <th>Risk_Factor</th>\n",
       "      <th>Hit_Report</th>\n",
       "      <th>Power_Report</th>\n",
       "      <th>...</th>\n",
       "      <th>Glove_Report</th>\n",
       "      <th>Arm_Report</th>\n",
       "      <th>Overall_Report</th>\n",
       "      <th>Weight_Num</th>\n",
       "      <th>OFP_Num</th>\n",
       "      <th>Hit_Grade_Num</th>\n",
       "      <th>Power_Grade_Num</th>\n",
       "      <th>Running_Grade_Num</th>\n",
       "      <th>Glove_Grade_Num</th>\n",
       "      <th>Arm_Grade_Num</th>\n",
       "    </tr>\n",
       "  </thead>\n",
       "  <tbody>\n",
       "    <tr>\n",
       "      <th>307</th>\n",
       "      <td>NOTUSED NOTUSED</td>\n",
       "      <td>00/00/0000</td>\n",
       "      <td></td>\n",
       "      <td></td>\n",
       "      <td>0' 0\"</td>\n",
       "      <td>Strong, compact, athletic body, projection rem...</td>\n",
       "      <td>2019</td>\n",
       "      <td>High</td>\n",
       "      <td>Quick hands, premium bat speed; varies timing ...</td>\n",
       "      <td>Plus raw, premium bat speed with moderate leve...</td>\n",
       "      <td>...</td>\n",
       "      <td>Adequate in the field, tracks well, takes good...</td>\n",
       "      <td>Plus arm strength, accurate to third base, car...</td>\n",
       "      <td>Martinez struggled to settle in to his full-se...</td>\n",
       "      <td>0</td>\n",
       "      <td>55</td>\n",
       "      <td>50</td>\n",
       "      <td>50</td>\n",
       "      <td>55</td>\n",
       "      <td>50</td>\n",
       "      <td>60</td>\n",
       "    </tr>\n",
       "  </tbody>\n",
       "</table>\n",
       "<p>1 rows × 21 columns</p>\n",
       "</div>"
      ],
      "text/plain": [
       "                Name        Born Bats Throws Height  \\\n",
       "307  NOTUSED NOTUSED  00/00/0000              0' 0\"   \n",
       "\n",
       "                                       Physical_Health MLB_ETA Risk_Factor  \\\n",
       "307  Strong, compact, athletic body, projection rem...    2019        High   \n",
       "\n",
       "                                            Hit_Report  \\\n",
       "307  Quick hands, premium bat speed; varies timing ...   \n",
       "\n",
       "                                          Power_Report  ...  \\\n",
       "307  Plus raw, premium bat speed with moderate leve...  ...   \n",
       "\n",
       "                                          Glove_Report  \\\n",
       "307  Adequate in the field, tracks well, takes good...   \n",
       "\n",
       "                                            Arm_Report  \\\n",
       "307  Plus arm strength, accurate to third base, car...   \n",
       "\n",
       "                                        Overall_Report Weight_Num  OFP_Num  \\\n",
       "307  Martinez struggled to settle in to his full-se...          0       55   \n",
       "\n",
       "     Hit_Grade_Num  Power_Grade_Num  Running_Grade_Num  Glove_Grade_Num  \\\n",
       "307             50               50                 55               50   \n",
       "\n",
       "     Arm_Grade_Num  \n",
       "307             60  \n",
       "\n",
       "[1 rows x 21 columns]"
      ]
     },
     "execution_count": 13,
     "metadata": {},
     "output_type": "execute_result"
    }
   ],
   "source": [
    "numerical_df[(numerical_df.Throws != 'Right') & (numerical_df.Throws != 'Left')]"
   ]
  },
  {
   "cell_type": "markdown",
   "metadata": {},
   "source": [
    "Will need to remove this row before final analysis, since that isn't usable as I don't have a player name.  Report is [here](https://legacy.baseballprospectus.com/prospects/eyewitness_bat.php?reportid=389)."
   ]
  },
  {
   "cell_type": "markdown",
   "metadata": {},
   "source": [
    "Back to the processing, I'll use one hot encoding for the following:\n",
    "- Bats: Bat_Rights and Bat_Left, since switch hitters do both\n",
    "- Throws: Right will be 1, Left will be 0 --> no one does both"
   ]
  },
  {
   "cell_type": "code",
   "execution_count": 14,
   "metadata": {},
   "outputs": [],
   "source": [
    "from hitter_cleaning import bats_preprocessing, throws_preprocessing, throws_bats_processor"
   ]
  },
  {
   "cell_type": "code",
   "execution_count": 15,
   "metadata": {
    "scrolled": true
   },
   "outputs": [
    {
     "name": "stderr",
     "output_type": "stream",
     "text": [
      "/Users/patrickbovard/Documents/GitHub/MLB-Scouting-Reports-Analysis/hitter_cleaning.py:61: SettingWithCopyWarning: \n",
      "A value is trying to be set on a copy of a slice from a DataFrame\n",
      "\n",
      "See the caveats in the documentation: https://pandas.pydata.org/pandas-docs/stable/user_guide/indexing.html#returning-a-view-versus-a-copy\n",
      "  df.Bats_Left[i] = 1\n",
      "/Users/patrickbovard/Documents/GitHub/MLB-Scouting-Reports-Analysis/hitter_cleaning.py:59: SettingWithCopyWarning: \n",
      "A value is trying to be set on a copy of a slice from a DataFrame\n",
      "\n",
      "See the caveats in the documentation: https://pandas.pydata.org/pandas-docs/stable/user_guide/indexing.html#returning-a-view-versus-a-copy\n",
      "  df.Bats_Right[i] = 1\n",
      "/Users/patrickbovard/Documents/GitHub/MLB-Scouting-Reports-Analysis/hitter_cleaning.py:56: SettingWithCopyWarning: \n",
      "A value is trying to be set on a copy of a slice from a DataFrame\n",
      "\n",
      "See the caveats in the documentation: https://pandas.pydata.org/pandas-docs/stable/user_guide/indexing.html#returning-a-view-versus-a-copy\n",
      "  df.Bats_Right[i] = 1\n",
      "/Users/patrickbovard/Documents/GitHub/MLB-Scouting-Reports-Analysis/hitter_cleaning.py:57: SettingWithCopyWarning: \n",
      "A value is trying to be set on a copy of a slice from a DataFrame\n",
      "\n",
      "See the caveats in the documentation: https://pandas.pydata.org/pandas-docs/stable/user_guide/indexing.html#returning-a-view-versus-a-copy\n",
      "  df.Bats_Left[i] = 1\n",
      "/Users/patrickbovard/Documents/GitHub/MLB-Scouting-Reports-Analysis/hitter_cleaning.py:72: SettingWithCopyWarning: \n",
      "A value is trying to be set on a copy of a slice from a DataFrame\n",
      "\n",
      "See the caveats in the documentation: https://pandas.pydata.org/pandas-docs/stable/user_guide/indexing.html#returning-a-view-versus-a-copy\n",
      "  df.Throws_Right[i] = 1\n"
     ]
    }
   ],
   "source": [
    "throws_bats_df = throws_bats_processor(numerical_df)"
   ]
  },
  {
   "cell_type": "code",
   "execution_count": 16,
   "metadata": {},
   "outputs": [
    {
     "data": {
      "text/plain": [
       "Right    447\n",
       "Left      76\n",
       "           1\n",
       "Name: Throws, dtype: int64"
      ]
     },
     "execution_count": 16,
     "metadata": {},
     "output_type": "execute_result"
    }
   ],
   "source": [
    "throws_bats_df.Throws.value_counts()"
   ]
  },
  {
   "cell_type": "code",
   "execution_count": 17,
   "metadata": {},
   "outputs": [
    {
     "data": {
      "text/plain": [
       "1    447\n",
       "0     77\n",
       "Name: Throws_Right, dtype: int64"
      ]
     },
     "execution_count": 17,
     "metadata": {},
     "output_type": "execute_result"
    }
   ],
   "source": [
    "throws_bats_df.Throws_Right.value_counts()"
   ]
  },
  {
   "cell_type": "markdown",
   "metadata": {},
   "source": [
    "All Set."
   ]
  },
  {
   "cell_type": "markdown",
   "metadata": {},
   "source": [
    "### Height\n",
    "This is relatively simple, just converting the height column to inches for best computation."
   ]
  },
  {
   "cell_type": "code",
   "execution_count": 18,
   "metadata": {},
   "outputs": [
    {
     "data": {
      "text/plain": [
       "6' 0\"     105\n",
       "6' 1\"      86\n",
       "6' 3\"      82\n",
       "6' 2\"      72\n",
       "6' 4\"      53\n",
       "5' 11\"     40\n",
       "5' 10\"     35\n",
       "5' 9\"      15\n",
       "6' 5\"      14\n",
       "5' 8\"       7\n",
       "6' 6\"       5\n",
       "6' 7\"       5\n",
       "5' 7\"       2\n",
       "5' 6\"       2\n",
       "0' 0\"       1\n",
       "Name: Height, dtype: int64"
      ]
     },
     "execution_count": 18,
     "metadata": {},
     "output_type": "execute_result"
    }
   ],
   "source": [
    "throws_bats_df.Height.value_counts()"
   ]
  },
  {
   "cell_type": "markdown",
   "metadata": {},
   "source": [
    "The easiest way to convert this will be to use string splitting, on the ' (feet) and \" (inches)."
   ]
  },
  {
   "cell_type": "code",
   "execution_count": 19,
   "metadata": {},
   "outputs": [],
   "source": [
    "from hitter_cleaning import height_converter_to_inches, height_inches_column"
   ]
  },
  {
   "cell_type": "code",
   "execution_count": 20,
   "metadata": {},
   "outputs": [],
   "source": [
    "height_df = height_inches_column(throws_bats_df)"
   ]
  },
  {
   "cell_type": "code",
   "execution_count": 21,
   "metadata": {},
   "outputs": [
    {
     "data": {
      "text/plain": [
       "72    105\n",
       "73     86\n",
       "75     82\n",
       "74     72\n",
       "76     53\n",
       "71     40\n",
       "70     35\n",
       "69     15\n",
       "77     14\n",
       "68      7\n",
       "78      5\n",
       "79      5\n",
       "66      2\n",
       "67      2\n",
       "0       1\n",
       "Name: Height_Inches, dtype: int64"
      ]
     },
     "execution_count": 21,
     "metadata": {},
     "output_type": "execute_result"
    }
   ],
   "source": [
    "height_df['Height_Inches'].value_counts()"
   ]
  },
  {
   "cell_type": "markdown",
   "metadata": {},
   "source": [
    "All set on height."
   ]
  },
  {
   "cell_type": "markdown",
   "metadata": {},
   "source": [
    "### MLB ETA and Birthday\n",
    "Last step for this initial cleaning is to do the MLB ETA and Birthday, in order to calculate age."
   ]
  },
  {
   "cell_type": "markdown",
   "metadata": {},
   "source": [
    "**ETA**:"
   ]
  },
  {
   "cell_type": "code",
   "execution_count": 22,
   "metadata": {},
   "outputs": [
    {
     "data": {
      "text/plain": [
       "2018          102\n",
       "2017           86\n",
       "2019           74\n",
       "2016           60\n",
       "2021           49\n",
       "2020           36\n",
       "2015           35\n",
       "2022           25\n",
       "N/A            10\n",
       "2014            9\n",
       "                8\n",
       "Late 2015       5\n",
       "Late 2017       4\n",
       "Late 2016       4\n",
       "2023            3\n",
       "Mid 2016        2\n",
       "2013            2\n",
       "11/1/2021       1\n",
       "Sept. 2019      1\n",
       "2025            1\n",
       "None            1\n",
       "Mid 2015        1\n",
       "mid-2019        1\n",
       "Late 2020       1\n",
       "Late-2019       1\n",
       "2024            1\n",
       "late 2019       1\n",
       "Name: MLB_ETA, dtype: int64"
      ]
     },
     "execution_count": 22,
     "metadata": {},
     "output_type": "execute_result"
    }
   ],
   "source": [
    "height_df.MLB_ETA.value_counts()"
   ]
  },
  {
   "cell_type": "markdown",
   "metadata": {},
   "source": [
    "There are a lot of different values here, but the main constant is having the year.  Ultimately that is the crucial things, I don't care as much about late, or not.  This will take a few different scenarios, based on the following:\n",
    "- Easiest: pure year is listed\n",
    "- Words or word- with year (i.e. Late 2015, or Late-2019) --> for this, can split on space or dash and take the second element.\n",
    "- Date format: split on /, take the last element\n",
    "- N/A or blank: list \"0\" for now"
   ]
  },
  {
   "cell_type": "code",
   "execution_count": 23,
   "metadata": {},
   "outputs": [],
   "source": [
    "from hitter_cleaning import eta_cleaner, cleaned_eta_column"
   ]
  },
  {
   "cell_type": "code",
   "execution_count": 24,
   "metadata": {},
   "outputs": [],
   "source": [
    "eta_df = cleaned_eta_column(height_df)"
   ]
  },
  {
   "cell_type": "code",
   "execution_count": 25,
   "metadata": {},
   "outputs": [
    {
     "data": {
      "text/plain": [
       "dtype('int64')"
      ]
     },
     "execution_count": 25,
     "metadata": {},
     "output_type": "execute_result"
    }
   ],
   "source": [
    "eta_df.ETA_clean.dtypes"
   ]
  },
  {
   "cell_type": "markdown",
   "metadata": {},
   "source": [
    "**Birthday**:  \n",
    "Birthdays are in the following format: MM/DD/YYYY.  The only thing to really clean here is to convert them to a datetime type."
   ]
  },
  {
   "cell_type": "code",
   "execution_count": 26,
   "metadata": {},
   "outputs": [
    {
     "data": {
      "text/plain": [
       "06/11/1993    5\n",
       "08/17/1993    4\n",
       "09/08/1993    4\n",
       "08/04/1993    4\n",
       "05/27/1996    4\n",
       "             ..\n",
       "02/14/1995    1\n",
       "07/07/1995    1\n",
       "01/25/1993    1\n",
       "12/16/1994    1\n",
       "02/10/1995    1\n",
       "Name: Born, Length: 386, dtype: int64"
      ]
     },
     "execution_count": 26,
     "metadata": {},
     "output_type": "execute_result"
    }
   ],
   "source": [
    "eta_df.Born.value_counts()"
   ]
  },
  {
   "cell_type": "code",
   "execution_count": 27,
   "metadata": {},
   "outputs": [],
   "source": [
    "from hitter_cleaning import born_cleaner"
   ]
  },
  {
   "cell_type": "code",
   "execution_count": 28,
   "metadata": {},
   "outputs": [],
   "source": [
    "born_df = born_cleaner(eta_df)"
   ]
  },
  {
   "cell_type": "code",
   "execution_count": 29,
   "metadata": {},
   "outputs": [
    {
     "name": "stdout",
     "output_type": "stream",
     "text": [
      "<class 'pandas.core.frame.DataFrame'>\n",
      "RangeIndex: 524 entries, 0 to 523\n",
      "Data columns (total 27 columns):\n",
      " #   Column             Non-Null Count  Dtype         \n",
      "---  ------             --------------  -----         \n",
      " 0   Name               524 non-null    object        \n",
      " 1   Born               524 non-null    object        \n",
      " 2   Bats               524 non-null    object        \n",
      " 3   Throws             524 non-null    object        \n",
      " 4   Height             524 non-null    object        \n",
      " 5   Physical_Health    524 non-null    object        \n",
      " 6   MLB_ETA            524 non-null    object        \n",
      " 7   Risk_Factor        524 non-null    object        \n",
      " 8   Hit_Report         524 non-null    object        \n",
      " 9   Power_Report       524 non-null    object        \n",
      " 10  Running_Report     524 non-null    object        \n",
      " 11  Glove_Report       524 non-null    object        \n",
      " 12  Arm_Report         524 non-null    object        \n",
      " 13  Overall_Report     524 non-null    object        \n",
      " 14  Weight_Num         524 non-null    int64         \n",
      " 15  OFP_Num            524 non-null    int64         \n",
      " 16  Hit_Grade_Num      524 non-null    int64         \n",
      " 17  Power_Grade_Num    524 non-null    int64         \n",
      " 18  Running_Grade_Num  524 non-null    int64         \n",
      " 19  Glove_Grade_Num    524 non-null    int64         \n",
      " 20  Arm_Grade_Num      524 non-null    int64         \n",
      " 21  Bats_Right         524 non-null    int64         \n",
      " 22  Bats_Left          524 non-null    int64         \n",
      " 23  Throws_Right       524 non-null    int64         \n",
      " 24  Height_Inches      524 non-null    int64         \n",
      " 25  ETA_clean          524 non-null    int64         \n",
      " 26  Born_DT            524 non-null    datetime64[ns]\n",
      "dtypes: datetime64[ns](1), int64(12), object(14)\n",
      "memory usage: 110.7+ KB\n"
     ]
    }
   ],
   "source": [
    "born_df.info()"
   ]
  },
  {
   "cell_type": "markdown",
   "metadata": {},
   "source": [
    "Utilizing the chained functions together:"
   ]
  },
  {
   "cell_type": "code",
   "execution_count": 30,
   "metadata": {},
   "outputs": [],
   "source": [
    "from hitter_cleaning import master_hitter_cleaner"
   ]
  },
  {
   "cell_type": "code",
   "execution_count": 31,
   "metadata": {},
   "outputs": [
    {
     "name": "stdout",
     "output_type": "stream",
     "text": [
      "<class 'pandas.core.frame.DataFrame'>\n",
      "RangeIndex: 524 entries, 0 to 523\n",
      "Data columns (total 22 columns):\n",
      " #   Column             Non-Null Count  Dtype         \n",
      "---  ------             --------------  -----         \n",
      " 0   Name               524 non-null    object        \n",
      " 1   Physical_Health    524 non-null    object        \n",
      " 2   Risk_Factor        524 non-null    object        \n",
      " 3   Hit_Report         524 non-null    object        \n",
      " 4   Power_Report       524 non-null    object        \n",
      " 5   Running_Report     524 non-null    object        \n",
      " 6   Glove_Report       524 non-null    object        \n",
      " 7   Arm_Report         524 non-null    object        \n",
      " 8   Overall_Report     524 non-null    object        \n",
      " 9   Weight_Num         524 non-null    int64         \n",
      " 10  OFP_Num            524 non-null    int64         \n",
      " 11  Hit_Grade_Num      524 non-null    int64         \n",
      " 12  Power_Grade_Num    524 non-null    int64         \n",
      " 13  Running_Grade_Num  524 non-null    int64         \n",
      " 14  Glove_Grade_Num    524 non-null    int64         \n",
      " 15  Arm_Grade_Num      524 non-null    int64         \n",
      " 16  Bats_Right         524 non-null    int64         \n",
      " 17  Bats_Left          524 non-null    int64         \n",
      " 18  Throws_Right       524 non-null    int64         \n",
      " 19  Height_Inches      524 non-null    int64         \n",
      " 20  ETA_clean          524 non-null    int64         \n",
      " 21  Born_DT            524 non-null    datetime64[ns]\n",
      "dtypes: datetime64[ns](1), int64(12), object(9)\n",
      "memory usage: 90.2+ KB\n"
     ]
    }
   ],
   "source": [
    "cleaned_df = master_hitter_cleaner(initial_hitter_data, drop_original_columns=True)\n",
    "cleaned_df.info()"
   ]
  },
  {
   "cell_type": "markdown",
   "metadata": {},
   "source": [
    "From here, I have my cleaned data and can move into text-preprocessing.  Pickling this data out to utilize in a new notebook."
   ]
  },
  {
   "cell_type": "code",
   "execution_count": 32,
   "metadata": {},
   "outputs": [],
   "source": [
    "with open('./Data_Files/cleaned_hitter_data.pickle', 'wb') as to_write:\n",
    "    pickle.dump(cleaned_df, to_write)"
   ]
  },
  {
   "cell_type": "markdown",
   "metadata": {},
   "source": [
    "# Next: initial_text_processing.ipynb"
   ]
  }
 ],
 "metadata": {
  "kernelspec": {
   "display_name": "Python [conda env:metis] *",
   "language": "python",
   "name": "conda-env-metis-py"
  },
  "language_info": {
   "codemirror_mode": {
    "name": "ipython",
    "version": 3
   },
   "file_extension": ".py",
   "mimetype": "text/x-python",
   "name": "python",
   "nbconvert_exporter": "python",
   "pygments_lexer": "ipython3",
   "version": "3.8.6"
  }
 },
 "nbformat": 4,
 "nbformat_minor": 4
}
