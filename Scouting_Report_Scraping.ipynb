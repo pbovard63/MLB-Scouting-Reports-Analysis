{
 "cells": [
  {
   "cell_type": "markdown",
   "metadata": {},
   "source": [
    "# Scouting Report Scraping"
   ]
  },
  {
   "cell_type": "markdown",
   "metadata": {},
   "source": [
    "The purpose of this notebook is to scrape scouting report data from [Baseball Prospectus' database](https://legacy.baseballprospectus.com/prospects/eyewitness.php)."
   ]
  },
  {
   "cell_type": "markdown",
   "metadata": {},
   "source": [
    "## Setup/Initiation:"
   ]
  },
  {
   "cell_type": "markdown",
   "metadata": {},
   "source": [
    "First, importing needed packages:"
   ]
  },
  {
   "cell_type": "code",
   "execution_count": 1,
   "metadata": {},
   "outputs": [],
   "source": [
    "import pickle\n",
    "import pandas as pd\n",
    "import matplotlib.pyplot as plt\n",
    "from pylab import rcParams\n",
    "%matplotlib inline\n",
    "rcParams['figure.figsize'] = 20,10\n",
    "import numpy as np\n",
    "import glob\n",
    "from scipy import stats\n",
    "from bs4 import BeautifulSoup\n",
    "import requests\n",
    "import re\n",
    "from IPython.core.display import display, HTML # make sure Jupyter knows to display it as HTML"
   ]
  },
  {
   "cell_type": "code",
   "execution_count": 2,
   "metadata": {},
   "outputs": [],
   "source": [
    "home_url = 'https://legacy.baseballprospectus.com/prospects/eyewitness.php'"
   ]
  },
  {
   "cell_type": "markdown",
   "metadata": {},
   "source": [
    "Setting up beautifulsoup object:"
   ]
  },
  {
   "cell_type": "code",
   "execution_count": 3,
   "metadata": {},
   "outputs": [],
   "source": [
    "home_response = requests.get(home_url)\n",
    "page = home_response.text\n",
    "soup_object = BeautifulSoup(page, 'lxml')"
   ]
  },
  {
   "cell_type": "markdown",
   "metadata": {},
   "source": [
    "## Initial Dataframe\n",
    "First, I need a dataframe with each player's initial information (name, links, etc.) to further scrape their reports."
   ]
  },
  {
   "cell_type": "markdown",
   "metadata": {},
   "source": [
    "Now, getting the table headers:"
   ]
  },
  {
   "cell_type": "code",
   "execution_count": 4,
   "metadata": {},
   "outputs": [],
   "source": [
    "header = soup_object.find('tr', class_='header').find_all('td')"
   ]
  },
  {
   "cell_type": "code",
   "execution_count": 5,
   "metadata": {},
   "outputs": [],
   "source": [
    "header_list = [col.get_text() for col in header]"
   ]
  },
  {
   "cell_type": "code",
   "execution_count": 6,
   "metadata": {},
   "outputs": [
    {
     "data": {
      "text/plain": [
       "['Player', 'Primary Pos', 'Evaluator', 'Report Date', 'OFP']"
      ]
     },
     "execution_count": 6,
     "metadata": {},
     "output_type": "execute_result"
    }
   ],
   "source": [
    "header_list"
   ]
  },
  {
   "cell_type": "markdown",
   "metadata": {},
   "source": [
    "Getting the rows of the table from the site, for each player, position, evaluattor, report date, OFP."
   ]
  },
  {
   "cell_type": "code",
   "execution_count": 7,
   "metadata": {},
   "outputs": [],
   "source": [
    "rows = soup_object.find('tbody').find_all('tr',class_=lambda x: x!= 'header')"
   ]
  },
  {
   "cell_type": "code",
   "execution_count": 8,
   "metadata": {},
   "outputs": [],
   "source": [
    "player_rows = [row.find_all('td') for row in rows]"
   ]
  },
  {
   "cell_type": "code",
   "execution_count": 9,
   "metadata": {},
   "outputs": [],
   "source": [
    "final_player_data = []\n",
    "for player in player_rows:\n",
    "    player_list = []\n",
    "    for item in player:\n",
    "        player_list.append(item.get_text())\n",
    "    final_player_data.append(player_list)"
   ]
  },
  {
   "cell_type": "markdown",
   "metadata": {},
   "source": [
    "Now, creating a Pandas dataframe with that info:"
   ]
  },
  {
   "cell_type": "code",
   "execution_count": 10,
   "metadata": {},
   "outputs": [],
   "source": [
    "initial_df = pd.DataFrame(final_player_data, columns=header_list)"
   ]
  },
  {
   "cell_type": "markdown",
   "metadata": {},
   "source": [
    "Only thing left to add is the links to each player's personal page - this will allow for scraping of their own scouting reports.  Based on the website, each players link will be 'https://legacy.baseballprospectus.com/prospects' with the Player_Page_Link column added on."
   ]
  },
  {
   "cell_type": "code",
   "execution_count": 11,
   "metadata": {},
   "outputs": [],
   "source": [
    "base_link = 'https://legacy.baseballprospectus.com/prospects/'"
   ]
  },
  {
   "cell_type": "code",
   "execution_count": 12,
   "metadata": {},
   "outputs": [],
   "source": [
    "player_links = [base_link + row[0].find('a').get('href') for row in player_rows]"
   ]
  },
  {
   "cell_type": "code",
   "execution_count": 13,
   "metadata": {},
   "outputs": [
    {
     "data": {
      "text/plain": [
       "1074"
      ]
     },
     "execution_count": 13,
     "metadata": {},
     "output_type": "execute_result"
    }
   ],
   "source": [
    "len(player_links)"
   ]
  },
  {
   "cell_type": "code",
   "execution_count": 14,
   "metadata": {},
   "outputs": [
    {
     "data": {
      "text/plain": [
       "(1074, 5)"
      ]
     },
     "execution_count": 14,
     "metadata": {},
     "output_type": "execute_result"
    }
   ],
   "source": [
    "initial_df.shape"
   ]
  },
  {
   "cell_type": "markdown",
   "metadata": {},
   "source": [
    "Shapes match up, adding this on:"
   ]
  },
  {
   "cell_type": "code",
   "execution_count": 15,
   "metadata": {},
   "outputs": [
    {
     "data": {
      "text/html": [
       "<div>\n",
       "<style scoped>\n",
       "    .dataframe tbody tr th:only-of-type {\n",
       "        vertical-align: middle;\n",
       "    }\n",
       "\n",
       "    .dataframe tbody tr th {\n",
       "        vertical-align: top;\n",
       "    }\n",
       "\n",
       "    .dataframe thead th {\n",
       "        text-align: right;\n",
       "    }\n",
       "</style>\n",
       "<table border=\"1\" class=\"dataframe\">\n",
       "  <thead>\n",
       "    <tr style=\"text-align: right;\">\n",
       "      <th></th>\n",
       "      <th>Player</th>\n",
       "      <th>Primary Pos</th>\n",
       "      <th>Evaluator</th>\n",
       "      <th>Report Date</th>\n",
       "      <th>OFP</th>\n",
       "      <th>Player_Page_Link</th>\n",
       "    </tr>\n",
       "  </thead>\n",
       "  <tbody>\n",
       "    <tr>\n",
       "      <th>0</th>\n",
       "      <td>CJ Abrams</td>\n",
       "      <td>SS</td>\n",
       "      <td>Keanan Lamb</td>\n",
       "      <td>06/01/2019</td>\n",
       "      <td>50</td>\n",
       "      <td>https://legacy.baseballprospectus.com/prospect...</td>\n",
       "    </tr>\n",
       "    <tr>\n",
       "      <th>1</th>\n",
       "      <td>Albert Abreu</td>\n",
       "      <td>P</td>\n",
       "      <td>Mauricio Rubio Jr.</td>\n",
       "      <td>08/27/2016</td>\n",
       "      <td>60</td>\n",
       "      <td>https://legacy.baseballprospectus.com/prospect...</td>\n",
       "    </tr>\n",
       "    <tr>\n",
       "      <th>2</th>\n",
       "      <td>Osvaldo Abreu</td>\n",
       "      <td>SS</td>\n",
       "      <td>Tucker Blair</td>\n",
       "      <td>05/04/2015</td>\n",
       "      <td>40</td>\n",
       "      <td>https://legacy.baseballprospectus.com/prospect...</td>\n",
       "    </tr>\n",
       "    <tr>\n",
       "      <th>3</th>\n",
       "      <td>Albert Abreu</td>\n",
       "      <td>P</td>\n",
       "      <td>Grant Jones</td>\n",
       "      <td>00/00/0000</td>\n",
       "      <td>60</td>\n",
       "      <td>https://legacy.baseballprospectus.com/prospect...</td>\n",
       "    </tr>\n",
       "    <tr>\n",
       "      <th>4</th>\n",
       "      <td>Albert Abreu</td>\n",
       "      <td>P</td>\n",
       "      <td>John Eshleman</td>\n",
       "      <td>12/13/2017</td>\n",
       "      <td>60</td>\n",
       "      <td>https://legacy.baseballprospectus.com/prospect...</td>\n",
       "    </tr>\n",
       "  </tbody>\n",
       "</table>\n",
       "</div>"
      ],
      "text/plain": [
       "          Player Primary Pos           Evaluator Report Date OFP  \\\n",
       "0      CJ Abrams          SS         Keanan Lamb  06/01/2019  50   \n",
       "1   Albert Abreu           P  Mauricio Rubio Jr.  08/27/2016  60   \n",
       "2  Osvaldo Abreu          SS        Tucker Blair  05/04/2015  40   \n",
       "3   Albert Abreu           P         Grant Jones  00/00/0000  60   \n",
       "4   Albert Abreu           P       John Eshleman  12/13/2017  60   \n",
       "\n",
       "                                    Player_Page_Link  \n",
       "0  https://legacy.baseballprospectus.com/prospect...  \n",
       "1  https://legacy.baseballprospectus.com/prospect...  \n",
       "2  https://legacy.baseballprospectus.com/prospect...  \n",
       "3  https://legacy.baseballprospectus.com/prospect...  \n",
       "4  https://legacy.baseballprospectus.com/prospect...  "
      ]
     },
     "execution_count": 15,
     "metadata": {},
     "output_type": "execute_result"
    }
   ],
   "source": [
    "initial_df['Player_Page_Link'] = player_links\n",
    "initial_df.head()"
   ]
  },
  {
   "cell_type": "markdown",
   "metadata": {},
   "source": [
    "From here, I can use the links in the Player_Page_Link column to scrape each player's report page."
   ]
  },
  {
   "cell_type": "markdown",
   "metadata": {},
   "source": [
    "First, I'll pickle out this dataframe so I don't have to continue to scrape the site for the same data."
   ]
  },
  {
   "cell_type": "code",
   "execution_count": 59,
   "metadata": {},
   "outputs": [
    {
     "data": {
      "text/plain": [
       "'/Users/patrickbovard/Documents/GitHub/MLB-Scouting-Reports-Analysis'"
      ]
     },
     "execution_count": 59,
     "metadata": {},
     "output_type": "execute_result"
    }
   ],
   "source": [
    "pwd"
   ]
  },
  {
   "cell_type": "code",
   "execution_count": 16,
   "metadata": {},
   "outputs": [],
   "source": [
    "with open('./Data_Files/initial_full_df_links.pickle', 'wb') as to_write:\n",
    "    pickle.dump(initial_df, to_write)"
   ]
  },
  {
   "cell_type": "markdown",
   "metadata": {},
   "source": [
    "## Scraping of Player Reports"
   ]
  },
  {
   "cell_type": "markdown",
   "metadata": {},
   "source": [
    "From the links I got originally, there are going to be two basic types of scouting reports: hitters and pitchers.  This should allow me to format my functions/scraping techniques, based on the player type."
   ]
  },
  {
   "cell_type": "markdown",
   "metadata": {},
   "source": [
    "### Hitters\n",
    "The hitters have 'eyewitness_bat' in their link.  Based on the scouting reports ([CJ Abrams for example](https://legacy.baseballprospectus.com/prospects/eyewitness_bat.php?reportid=544)), there are a few main fields to capture:\n",
    "- Personal Info (Born, Bats, Throws, Height, Weight, Primary Position, Secondary Position)\n",
    "- Physical/Health\n",
    "- First Table (MLB ETA, Risk Factor)\n",
    "- Scouting Table - Tools (for Hit, Power, Baserunning/Speed, Glove, Arm):\n",
    "    - Future Grade\n",
    "    - Report\n",
    "- Overall Report\n",
    "\n",
    "These are consistent for all hitters, so corressponding functions will work to scrape this data."
   ]
  },
  {
   "cell_type": "markdown",
   "metadata": {},
   "source": [
    "I'll start by testing it out with CJ Abrams, as an example, since the reports have a similar format:"
   ]
  },
  {
   "cell_type": "code",
   "execution_count": 16,
   "metadata": {},
   "outputs": [],
   "source": [
    "abrams_link = 'https://legacy.baseballprospectus.com/prospects/eyewitness_bat.php?reportid=544'"
   ]
  },
  {
   "cell_type": "code",
   "execution_count": 17,
   "metadata": {},
   "outputs": [],
   "source": [
    "home_response = requests.get(abrams_link)\n",
    "page = home_response.text\n",
    "abrams_soup = BeautifulSoup(page, 'lxml')"
   ]
  },
  {
   "cell_type": "markdown",
   "metadata": {},
   "source": [
    "Basic Information:"
   ]
  },
  {
   "cell_type": "markdown",
   "metadata": {},
   "source": [
    "Name:"
   ]
  },
  {
   "cell_type": "code",
   "execution_count": 18,
   "metadata": {},
   "outputs": [],
   "source": [
    "name = abrams_soup.find('table', class_='info').find('p', class_='name').get_text()"
   ]
  },
  {
   "cell_type": "code",
   "execution_count": 19,
   "metadata": {},
   "outputs": [
    {
     "data": {
      "text/plain": [
       "'CJ Abrams'"
      ]
     },
     "execution_count": 19,
     "metadata": {},
     "output_type": "execute_result"
    }
   ],
   "source": [
    "name"
   ]
  },
  {
   "cell_type": "markdown",
   "metadata": {},
   "source": [
    "Other personal info:"
   ]
  },
  {
   "cell_type": "code",
   "execution_count": 20,
   "metadata": {},
   "outputs": [],
   "source": [
    "info_orig = abrams_soup.find('table', class_='info').find('td').get_text().split(name)[1][1:].split('\\n')\n",
    "info_final = [item.split(':')[1][1:].strip(' (Age') for item in info_orig if item]"
   ]
  },
  {
   "cell_type": "code",
   "execution_count": 21,
   "metadata": {},
   "outputs": [
    {
     "data": {
      "text/plain": [
       "['10/03/2000', 'Left', 'Right', '6\\' 2\"', '185', 'SS', 'CF']"
      ]
     },
     "execution_count": 21,
     "metadata": {},
     "output_type": "execute_result"
    }
   ],
   "source": [
    "info_final"
   ]
  },
  {
   "cell_type": "code",
   "execution_count": 22,
   "metadata": {},
   "outputs": [],
   "source": [
    "info_final.insert(0, name)"
   ]
  },
  {
   "cell_type": "code",
   "execution_count": 23,
   "metadata": {},
   "outputs": [
    {
     "data": {
      "text/plain": [
       "['CJ Abrams', '10/03/2000', 'Left', 'Right', '6\\' 2\"', '185', 'SS', 'CF']"
      ]
     },
     "execution_count": 23,
     "metadata": {},
     "output_type": "execute_result"
    }
   ],
   "source": [
    "info_final"
   ]
  },
  {
   "cell_type": "markdown",
   "metadata": {},
   "source": [
    "Evaluator Info:"
   ]
  },
  {
   "cell_type": "code",
   "execution_count": 24,
   "metadata": {},
   "outputs": [],
   "source": [
    "#Evaluator, Report Date, Date Seen, Affiliate:\n",
    "eval_info = [item.get_text().replace('\\n', '').replace('\\t', '') for item in abrams_soup.find('table', class_='evaluator').find('tbody').find_all('td',class_=lambda x: x!= 'header')]"
   ]
  },
  {
   "cell_type": "code",
   "execution_count": 25,
   "metadata": {},
   "outputs": [
    {
     "data": {
      "text/plain": [
       "['Keanan Lamb', '06/01/2019', '4/3-6/19', ' (, ) ']"
      ]
     },
     "execution_count": 25,
     "metadata": {},
     "output_type": "execute_result"
    }
   ],
   "source": [
    "eval_info"
   ]
  },
  {
   "cell_type": "code",
   "execution_count": 26,
   "metadata": {},
   "outputs": [
    {
     "data": {
      "text/plain": [
       "['CJ Abrams',\n",
       " '10/03/2000',\n",
       " 'Left',\n",
       " 'Right',\n",
       " '6\\' 2\"',\n",
       " '185',\n",
       " 'SS',\n",
       " 'CF',\n",
       " 'Keanan Lamb',\n",
       " '06/01/2019',\n",
       " '4/3-6/19',\n",
       " ' (, ) ']"
      ]
     },
     "execution_count": 26,
     "metadata": {},
     "output_type": "execute_result"
    }
   ],
   "source": [
    "info_final + eval_info"
   ]
  },
  {
   "cell_type": "markdown",
   "metadata": {},
   "source": [
    "Physical/Health:"
   ]
  },
  {
   "cell_type": "code",
   "execution_count": 27,
   "metadata": {},
   "outputs": [
    {
     "data": {
      "text/plain": [
       "'A pure athlete with quick twitch muscles, very skinny and needs to add good weight without sacrificing dynamic movement. His premium athleticism is the upside on all his projected future tools.'"
      ]
     },
     "execution_count": 27,
     "metadata": {},
     "output_type": "execute_result"
    }
   ],
   "source": [
    "abrams_soup.find('table', class_='mechanics').find_all('td')[-1].get_text()"
   ]
  },
  {
   "cell_type": "markdown",
   "metadata": {},
   "source": [
    "MLB ETA, Risk, OFP:"
   ]
  },
  {
   "cell_type": "code",
   "execution_count": 28,
   "metadata": {},
   "outputs": [],
   "source": [
    "rep_stuff = [item.get_text().strip(' ') for item in abrams_soup.find('table', class_='repertoire').find_all('td')[4:7]]"
   ]
  },
  {
   "cell_type": "code",
   "execution_count": 29,
   "metadata": {},
   "outputs": [
    {
     "data": {
      "text/plain": [
       "['2025', 'Extreme', '50']"
      ]
     },
     "execution_count": 29,
     "metadata": {},
     "output_type": "execute_result"
    }
   ],
   "source": [
    "rep_stuff"
   ]
  },
  {
   "cell_type": "markdown",
   "metadata": {},
   "source": [
    "Tools and Reports:"
   ]
  },
  {
   "cell_type": "code",
   "execution_count": 30,
   "metadata": {},
   "outputs": [],
   "source": [
    "#First need to find the rows for hit, power, speed, glove, and arm:\n",
    "tools_full = abrams_soup.find('table', class_='tool').find_all('tr', class_=lambda x: x!= 'header')\n",
    "\n",
    "#Then, can get grades:\n",
    "tools_grades = [tool.find_all('td', class_='mid') for tool in tools_full]\n",
    "tools_grades_text = [tool[0].get_text().strip(' ') for tool in tools_grades]"
   ]
  },
  {
   "cell_type": "code",
   "execution_count": 31,
   "metadata": {},
   "outputs": [
    {
     "data": {
      "text/plain": [
       "['50', '40', '70', '55', '60']"
      ]
     },
     "execution_count": 31,
     "metadata": {},
     "output_type": "execute_result"
    }
   ],
   "source": [
    "tools_grades_text"
   ]
  },
  {
   "cell_type": "code",
   "execution_count": 32,
   "metadata": {},
   "outputs": [],
   "source": [
    "#Now, Reports:\n",
    "tools_reports = [tool.find_all('td')[-1].get_text().strip('\\t')[1:] for tool in tools_full] #Need to get rid of leading spaces"
   ]
  },
  {
   "cell_type": "code",
   "execution_count": 33,
   "metadata": {},
   "outputs": [
    {
     "data": {
      "text/plain": [
       "5"
      ]
     },
     "execution_count": 33,
     "metadata": {},
     "output_type": "execute_result"
    }
   ],
   "source": [
    "len(tools_reports)"
   ]
  },
  {
   "cell_type": "markdown",
   "metadata": {},
   "source": [
    "Overall Report:"
   ]
  },
  {
   "cell_type": "code",
   "execution_count": 34,
   "metadata": {},
   "outputs": [],
   "source": [
    "overall_report = abrams_soup.find('table', class_='overall').find('p').get_text()[1:]"
   ]
  },
  {
   "cell_type": "code",
   "execution_count": 35,
   "metadata": {},
   "outputs": [
    {
     "data": {
      "text/plain": [
       "\"Every year there are players drafted purely based on athletic ability and not necessarily on baseball skills, and Abrams would fall into that category as he is still plenty raw defensively and especially offensively. The team that selects him will have to be patient and work with him to help develop his skills in accordance with his physicality. It's a boom or bust profile that is reliant on everything clicking.\""
      ]
     },
     "execution_count": 35,
     "metadata": {},
     "output_type": "execute_result"
    }
   ],
   "source": [
    "overall_report"
   ]
  },
  {
   "cell_type": "markdown",
   "metadata": {},
   "source": [
    "Now, I'll be testing out these functions that were compiled in hitter_scraping.py.  This will use the full list of links."
   ]
  },
  {
   "cell_type": "code",
   "execution_count": 36,
   "metadata": {},
   "outputs": [],
   "source": [
    "link_list = list(initial_df.Player_Page_Link.values)"
   ]
  },
  {
   "cell_type": "code",
   "execution_count": 37,
   "metadata": {},
   "outputs": [],
   "source": [
    "hitter_link_list = [link for link in link_list if 'eyewitness_bat' in link]"
   ]
  },
  {
   "cell_type": "code",
   "execution_count": 38,
   "metadata": {},
   "outputs": [],
   "source": [
    "from hitter_scraping import *"
   ]
  },
  {
   "cell_type": "code",
   "execution_count": 39,
   "metadata": {
    "scrolled": true
   },
   "outputs": [],
   "source": [
    "scraped_data = hitter_puller_list(hitter_link_list)"
   ]
  },
  {
   "cell_type": "markdown",
   "metadata": {},
   "source": [
    "With the data scraped, these are the columns that will be needed for the dataframe.  I'll then just quickly check that the number of columns in all players' data is the same."
   ]
  },
  {
   "cell_type": "code",
   "execution_count": 52,
   "metadata": {},
   "outputs": [],
   "source": [
    "report_cols = ['Name', 'Born', 'Bats', 'Throws', 'Height', 'Weight', 'Physical_Health', 'MLB_ETA', 'Risk_Factor', 'OFP', 'Hit_Grade', 'Power_Grade', 'Running_Grade', 'Glove_Grade', 'Arm_Grade', 'Hit_Report','Power_Report','Running_Report','Glove_Report','Arm_Report', 'Overall_Report']"
   ]
  },
  {
   "cell_type": "code",
   "execution_count": 53,
   "metadata": {},
   "outputs": [
    {
     "data": {
      "text/plain": [
       "21"
      ]
     },
     "execution_count": 53,
     "metadata": {},
     "output_type": "execute_result"
    }
   ],
   "source": [
    "len(report_cols)"
   ]
  },
  {
   "cell_type": "code",
   "execution_count": 54,
   "metadata": {},
   "outputs": [
    {
     "data": {
      "text/plain": [
       "0"
      ]
     },
     "execution_count": 54,
     "metadata": {},
     "output_type": "execute_result"
    }
   ],
   "source": [
    "uneven_reports = [report for report in scraped_data if len(report) != 21]\n",
    "len(uneven_reports)"
   ]
  },
  {
   "cell_type": "markdown",
   "metadata": {},
   "source": [
    "Great, all have the same length to match the columns"
   ]
  },
  {
   "cell_type": "markdown",
   "metadata": {},
   "source": [
    "Now, building the hitters' dataframe."
   ]
  },
  {
   "cell_type": "code",
   "execution_count": 55,
   "metadata": {},
   "outputs": [],
   "source": [
    "hitter_df = pd.DataFrame(scraped_data, columns=report_cols)"
   ]
  },
  {
   "cell_type": "code",
   "execution_count": 56,
   "metadata": {},
   "outputs": [
    {
     "data": {
      "text/html": [
       "<div>\n",
       "<style scoped>\n",
       "    .dataframe tbody tr th:only-of-type {\n",
       "        vertical-align: middle;\n",
       "    }\n",
       "\n",
       "    .dataframe tbody tr th {\n",
       "        vertical-align: top;\n",
       "    }\n",
       "\n",
       "    .dataframe thead th {\n",
       "        text-align: right;\n",
       "    }\n",
       "</style>\n",
       "<table border=\"1\" class=\"dataframe\">\n",
       "  <thead>\n",
       "    <tr style=\"text-align: right;\">\n",
       "      <th></th>\n",
       "      <th>Name</th>\n",
       "      <th>Born</th>\n",
       "      <th>Bats</th>\n",
       "      <th>Throws</th>\n",
       "      <th>Height</th>\n",
       "      <th>Weight</th>\n",
       "      <th>Physical_Health</th>\n",
       "      <th>MLB_ETA</th>\n",
       "      <th>Risk_Factor</th>\n",
       "      <th>OFP</th>\n",
       "      <th>...</th>\n",
       "      <th>Power_Grade</th>\n",
       "      <th>Running_Grade</th>\n",
       "      <th>Glove_Grade</th>\n",
       "      <th>Arm_Grade</th>\n",
       "      <th>Hit_Report</th>\n",
       "      <th>Power_Report</th>\n",
       "      <th>Running_Report</th>\n",
       "      <th>Glove_Report</th>\n",
       "      <th>Arm_Report</th>\n",
       "      <th>Overall_Report</th>\n",
       "    </tr>\n",
       "  </thead>\n",
       "  <tbody>\n",
       "    <tr>\n",
       "      <th>0</th>\n",
       "      <td>CJ Abrams</td>\n",
       "      <td>10/03/2000</td>\n",
       "      <td>Left</td>\n",
       "      <td>Right</td>\n",
       "      <td>6' 2\"</td>\n",
       "      <td>185</td>\n",
       "      <td>A pure athlete with quick twitch muscles, very...</td>\n",
       "      <td>2025</td>\n",
       "      <td>Extreme</td>\n",
       "      <td>50</td>\n",
       "      <td>...</td>\n",
       "      <td>40</td>\n",
       "      <td>70</td>\n",
       "      <td>55</td>\n",
       "      <td>60</td>\n",
       "      <td>Very raw as a hitter with a lot of mechanical ...</td>\n",
       "      <td>Beyond needing to gain strength to add to his ...</td>\n",
       "      <td>Easily his best tool, runs like a wide receive...</td>\n",
       "      <td>Good hand-eye coordination and fundamentals, c...</td>\n",
       "      <td>On pure arm strength, it's average to slightly...</td>\n",
       "      <td>Every year there are players drafted purely ba...</td>\n",
       "    </tr>\n",
       "    <tr>\n",
       "      <th>1</th>\n",
       "      <td>Osvaldo Abreu</td>\n",
       "      <td>06/13/1994</td>\n",
       "      <td>Right</td>\n",
       "      <td>Right</td>\n",
       "      <td>6' 0\"</td>\n",
       "      <td>195</td>\n",
       "      <td>Smaller frame with a little room to add streng...</td>\n",
       "      <td>2018</td>\n",
       "      <td>Moderate</td>\n",
       "      <td>45</td>\n",
       "      <td>...</td>\n",
       "      <td>30</td>\n",
       "      <td>55</td>\n",
       "      <td>55</td>\n",
       "      <td>55</td>\n",
       "      <td>Open stance, steady at the plate, hands are ti...</td>\n",
       "      <td>Frame translates to below-average raw power, l...</td>\n",
       "      <td>4.15 clock, above-average foot speed speed, qu...</td>\n",
       "      <td>Quick transfer, flashes soft hands, immature g...</td>\n",
       "      <td>Enough arm strength to make any throw from sho...</td>\n",
       "      <td>Abreu has the defensive chops and arm strength...</td>\n",
       "    </tr>\n",
       "    <tr>\n",
       "      <th>2</th>\n",
       "      <td>Osvaldo Abreu</td>\n",
       "      <td>06/13/1994</td>\n",
       "      <td>Right</td>\n",
       "      <td>Right</td>\n",
       "      <td>6' 0\"</td>\n",
       "      <td>195</td>\n",
       "      <td>Small frame; toned body with muscular definiti...</td>\n",
       "      <td>2019</td>\n",
       "      <td>High</td>\n",
       "      <td>40</td>\n",
       "      <td>...</td>\n",
       "      <td>30</td>\n",
       "      <td>45</td>\n",
       "      <td>50</td>\n",
       "      <td>50</td>\n",
       "      <td>Above-average bat speed; noisy hands; minor hi...</td>\n",
       "      <td>Average raw power; slight leverage and above-a...</td>\n",
       "      <td>4.45 home to first; slow out of the box; more ...</td>\n",
       "      <td>Extremely inconsistent currently; footwork can...</td>\n",
       "      <td>Above-average arm strength; moderate carry and...</td>\n",
       "      <td>Abreu was signed as an international free agen...</td>\n",
       "    </tr>\n",
       "    <tr>\n",
       "      <th>3</th>\n",
       "      <td>Ronald Acuna</td>\n",
       "      <td>12/18/1997</td>\n",
       "      <td>Right</td>\n",
       "      <td>Right</td>\n",
       "      <td>6' 0\"</td>\n",
       "      <td>180</td>\n",
       "      <td>Quick-twitch movement, explosive hands; presen...</td>\n",
       "      <td>2019</td>\n",
       "      <td>High</td>\n",
       "      <td>70</td>\n",
       "      <td>...</td>\n",
       "      <td>60</td>\n",
       "      <td>55</td>\n",
       "      <td>45</td>\n",
       "      <td>55</td>\n",
       "      <td>High hands stay quiet through load, attacks ba...</td>\n",
       "      <td>Plus-plus raw power; outsized raw despite aver...</td>\n",
       "      <td>Times range 4.2-4.3, 4.15 on a leaner out of b...</td>\n",
       "      <td>Uncertain center-field future; above-average r...</td>\n",
       "      <td>Above-average arm for center; would play to av...</td>\n",
       "      <td>Acuna flashes all five tools with quick-twitch...</td>\n",
       "    </tr>\n",
       "    <tr>\n",
       "      <th>4</th>\n",
       "      <td>Ronald Acuna</td>\n",
       "      <td>12/18/1997</td>\n",
       "      <td>Right</td>\n",
       "      <td>Right</td>\n",
       "      <td>6' 0\"</td>\n",
       "      <td>180</td>\n",
       "      <td>Impressive, proportioned athlete with plus str...</td>\n",
       "      <td>2018</td>\n",
       "      <td>Low</td>\n",
       "      <td>80</td>\n",
       "      <td>...</td>\n",
       "      <td>70</td>\n",
       "      <td>55</td>\n",
       "      <td>55</td>\n",
       "      <td>70</td>\n",
       "      <td>High hands (above ear) in set-up. Moderate leg...</td>\n",
       "      <td>Wrist strength and quickness is major asset. G...</td>\n",
       "      <td>4.23 home to first. Faster underway with longe...</td>\n",
       "      <td>Demonstrates good reads and solid first step; ...</td>\n",
       "      <td>One-hopper on line from RF warning track. Thro...</td>\n",
       "      <td>Impressive player ready to contribute now desp...</td>\n",
       "    </tr>\n",
       "  </tbody>\n",
       "</table>\n",
       "<p>5 rows × 21 columns</p>\n",
       "</div>"
      ],
      "text/plain": [
       "            Name        Born   Bats Throws Height Weight  \\\n",
       "0      CJ Abrams  10/03/2000   Left  Right  6' 2\"    185   \n",
       "1  Osvaldo Abreu  06/13/1994  Right  Right  6' 0\"    195   \n",
       "2  Osvaldo Abreu  06/13/1994  Right  Right  6' 0\"    195   \n",
       "3   Ronald Acuna  12/18/1997  Right  Right  6' 0\"    180   \n",
       "4   Ronald Acuna  12/18/1997  Right  Right  6' 0\"    180   \n",
       "\n",
       "                                     Physical_Health MLB_ETA Risk_Factor OFP  \\\n",
       "0  A pure athlete with quick twitch muscles, very...    2025     Extreme  50   \n",
       "1  Smaller frame with a little room to add streng...    2018    Moderate  45   \n",
       "2  Small frame; toned body with muscular definiti...    2019        High  40   \n",
       "3  Quick-twitch movement, explosive hands; presen...    2019        High  70   \n",
       "4  Impressive, proportioned athlete with plus str...    2018         Low  80   \n",
       "\n",
       "   ... Power_Grade Running_Grade Glove_Grade Arm_Grade  \\\n",
       "0  ...          40            70          55        60   \n",
       "1  ...          30            55          55        55   \n",
       "2  ...          30            45          50        50   \n",
       "3  ...          60            55          45        55   \n",
       "4  ...          70            55          55        70   \n",
       "\n",
       "                                          Hit_Report  \\\n",
       "0  Very raw as a hitter with a lot of mechanical ...   \n",
       "1  Open stance, steady at the plate, hands are ti...   \n",
       "2  Above-average bat speed; noisy hands; minor hi...   \n",
       "3  High hands stay quiet through load, attacks ba...   \n",
       "4  High hands (above ear) in set-up. Moderate leg...   \n",
       "\n",
       "                                        Power_Report  \\\n",
       "0  Beyond needing to gain strength to add to his ...   \n",
       "1  Frame translates to below-average raw power, l...   \n",
       "2  Average raw power; slight leverage and above-a...   \n",
       "3  Plus-plus raw power; outsized raw despite aver...   \n",
       "4  Wrist strength and quickness is major asset. G...   \n",
       "\n",
       "                                      Running_Report  \\\n",
       "0  Easily his best tool, runs like a wide receive...   \n",
       "1  4.15 clock, above-average foot speed speed, qu...   \n",
       "2  4.45 home to first; slow out of the box; more ...   \n",
       "3  Times range 4.2-4.3, 4.15 on a leaner out of b...   \n",
       "4  4.23 home to first. Faster underway with longe...   \n",
       "\n",
       "                                        Glove_Report  \\\n",
       "0  Good hand-eye coordination and fundamentals, c...   \n",
       "1  Quick transfer, flashes soft hands, immature g...   \n",
       "2  Extremely inconsistent currently; footwork can...   \n",
       "3  Uncertain center-field future; above-average r...   \n",
       "4  Demonstrates good reads and solid first step; ...   \n",
       "\n",
       "                                          Arm_Report  \\\n",
       "0  On pure arm strength, it's average to slightly...   \n",
       "1  Enough arm strength to make any throw from sho...   \n",
       "2  Above-average arm strength; moderate carry and...   \n",
       "3  Above-average arm for center; would play to av...   \n",
       "4  One-hopper on line from RF warning track. Thro...   \n",
       "\n",
       "                                      Overall_Report  \n",
       "0  Every year there are players drafted purely ba...  \n",
       "1  Abreu has the defensive chops and arm strength...  \n",
       "2  Abreu was signed as an international free agen...  \n",
       "3  Acuna flashes all five tools with quick-twitch...  \n",
       "4  Impressive player ready to contribute now desp...  \n",
       "\n",
       "[5 rows x 21 columns]"
      ]
     },
     "execution_count": 56,
     "metadata": {},
     "output_type": "execute_result"
    }
   ],
   "source": [
    "hitter_df.head()"
   ]
  },
  {
   "cell_type": "code",
   "execution_count": 57,
   "metadata": {},
   "outputs": [
    {
     "name": "stdout",
     "output_type": "stream",
     "text": [
      "<class 'pandas.core.frame.DataFrame'>\n",
      "RangeIndex: 524 entries, 0 to 523\n",
      "Data columns (total 21 columns):\n",
      " #   Column           Non-Null Count  Dtype \n",
      "---  ------           --------------  ----- \n",
      " 0   Name             524 non-null    object\n",
      " 1   Born             524 non-null    object\n",
      " 2   Bats             524 non-null    object\n",
      " 3   Throws           524 non-null    object\n",
      " 4   Height           524 non-null    object\n",
      " 5   Weight           524 non-null    object\n",
      " 6   Physical_Health  524 non-null    object\n",
      " 7   MLB_ETA          524 non-null    object\n",
      " 8   Risk_Factor      524 non-null    object\n",
      " 9   OFP              524 non-null    object\n",
      " 10  Hit_Grade        524 non-null    object\n",
      " 11  Power_Grade      524 non-null    object\n",
      " 12  Running_Grade    524 non-null    object\n",
      " 13  Glove_Grade      524 non-null    object\n",
      " 14  Arm_Grade        524 non-null    object\n",
      " 15  Hit_Report       524 non-null    object\n",
      " 16  Power_Report     524 non-null    object\n",
      " 17  Running_Report   524 non-null    object\n",
      " 18  Glove_Report     524 non-null    object\n",
      " 19  Arm_Report       524 non-null    object\n",
      " 20  Overall_Report   524 non-null    object\n",
      "dtypes: object(21)\n",
      "memory usage: 86.1+ KB\n"
     ]
    }
   ],
   "source": [
    "hitter_df.info()"
   ]
  },
  {
   "cell_type": "markdown",
   "metadata": {},
   "source": [
    "Pickling out this dataframe to save for later, and to avoid having to continuously scrape the site."
   ]
  },
  {
   "cell_type": "code",
   "execution_count": 59,
   "metadata": {},
   "outputs": [
    {
     "data": {
      "text/plain": [
       "'/Users/patrickbovard/Documents/GitHub/MLB-Scouting-Reports-Analysis'"
      ]
     },
     "execution_count": 59,
     "metadata": {},
     "output_type": "execute_result"
    }
   ],
   "source": [
    "pwd"
   ]
  },
  {
   "cell_type": "code",
   "execution_count": 61,
   "metadata": {},
   "outputs": [],
   "source": [
    "with open('./Data_Files/initial_hitter_data.pickle', 'wb') as to_write:\n",
    "    pickle.dump(hitter_df, to_write)"
   ]
  }
 ],
 "metadata": {
  "kernelspec": {
   "display_name": "Python [conda env:metis] *",
   "language": "python",
   "name": "conda-env-metis-py"
  },
  "language_info": {
   "codemirror_mode": {
    "name": "ipython",
    "version": 3
   },
   "file_extension": ".py",
   "mimetype": "text/x-python",
   "name": "python",
   "nbconvert_exporter": "python",
   "pygments_lexer": "ipython3",
   "version": "3.8.6"
  }
 },
 "nbformat": 4,
 "nbformat_minor": 4
}
