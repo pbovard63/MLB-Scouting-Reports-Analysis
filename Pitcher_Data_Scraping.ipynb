{
 "cells": [
  {
   "cell_type": "markdown",
   "metadata": {},
   "source": [
    "# Pitcher Data Scraping\n",
    "The purpose of this notebook is to scrape scouting report data from [Baseball Prospectus' database](https://legacy.baseballprospectus.com/prospects/eyewitness.php), specifically for pitchers.  Initial scraping and scraping of hitter's scouting reports was found in Scouting_Report_Scraping.ipynb."
   ]
  },
  {
   "cell_type": "markdown",
   "metadata": {},
   "source": [
    "## Setup/Initiation:"
   ]
  },
  {
   "cell_type": "markdown",
   "metadata": {},
   "source": [
    "First, importing needed packages:"
   ]
  },
  {
   "cell_type": "code",
   "execution_count": 4,
   "metadata": {},
   "outputs": [],
   "source": [
    "import pickle\n",
    "import pandas as pd\n",
    "import matplotlib.pyplot as plt\n",
    "from pylab import rcParams\n",
    "%matplotlib inline\n",
    "rcParams['figure.figsize'] = 20,10\n",
    "import numpy as np\n",
    "import glob\n",
    "from scipy import stats\n",
    "from bs4 import BeautifulSoup\n",
    "import requests\n",
    "import re\n",
    "from IPython.core.display import display, HTML    # make sure Jupyter knows to display it as HTML"
   ]
  },
  {
   "cell_type": "markdown",
   "metadata": {},
   "source": [
    "To scrape this data, I'll need the initial list of links I scraped:"
   ]
  },
  {
   "cell_type": "code",
   "execution_count": 6,
   "metadata": {},
   "outputs": [],
   "source": [
    "with open('./Data_Files/initial_full_df_links.pickle', 'rb') as to_read:\n",
    "    initial_df = pickle.load(to_read)"
   ]
  },
  {
   "cell_type": "code",
   "execution_count": 7,
   "metadata": {},
   "outputs": [
    {
     "data": {
      "text/html": [
       "<div>\n",
       "<style scoped>\n",
       "    .dataframe tbody tr th:only-of-type {\n",
       "        vertical-align: middle;\n",
       "    }\n",
       "\n",
       "    .dataframe tbody tr th {\n",
       "        vertical-align: top;\n",
       "    }\n",
       "\n",
       "    .dataframe thead th {\n",
       "        text-align: right;\n",
       "    }\n",
       "</style>\n",
       "<table border=\"1\" class=\"dataframe\">\n",
       "  <thead>\n",
       "    <tr style=\"text-align: right;\">\n",
       "      <th></th>\n",
       "      <th>Player</th>\n",
       "      <th>Primary Pos</th>\n",
       "      <th>Evaluator</th>\n",
       "      <th>Report Date</th>\n",
       "      <th>OFP</th>\n",
       "      <th>Player_Page_Link</th>\n",
       "    </tr>\n",
       "  </thead>\n",
       "  <tbody>\n",
       "    <tr>\n",
       "      <th>0</th>\n",
       "      <td>CJ Abrams</td>\n",
       "      <td>SS</td>\n",
       "      <td>Keanan Lamb</td>\n",
       "      <td>06/01/2019</td>\n",
       "      <td>50</td>\n",
       "      <td>https://legacy.baseballprospectus.com/prospect...</td>\n",
       "    </tr>\n",
       "    <tr>\n",
       "      <th>1</th>\n",
       "      <td>Albert Abreu</td>\n",
       "      <td>P</td>\n",
       "      <td>Mauricio Rubio Jr.</td>\n",
       "      <td>08/27/2016</td>\n",
       "      <td>60</td>\n",
       "      <td>https://legacy.baseballprospectus.com/prospect...</td>\n",
       "    </tr>\n",
       "    <tr>\n",
       "      <th>2</th>\n",
       "      <td>Osvaldo Abreu</td>\n",
       "      <td>SS</td>\n",
       "      <td>Tucker Blair</td>\n",
       "      <td>05/04/2015</td>\n",
       "      <td>40</td>\n",
       "      <td>https://legacy.baseballprospectus.com/prospect...</td>\n",
       "    </tr>\n",
       "    <tr>\n",
       "      <th>3</th>\n",
       "      <td>Albert Abreu</td>\n",
       "      <td>P</td>\n",
       "      <td>Grant Jones</td>\n",
       "      <td>00/00/0000</td>\n",
       "      <td>60</td>\n",
       "      <td>https://legacy.baseballprospectus.com/prospect...</td>\n",
       "    </tr>\n",
       "    <tr>\n",
       "      <th>4</th>\n",
       "      <td>Albert Abreu</td>\n",
       "      <td>P</td>\n",
       "      <td>John Eshleman</td>\n",
       "      <td>12/13/2017</td>\n",
       "      <td>60</td>\n",
       "      <td>https://legacy.baseballprospectus.com/prospect...</td>\n",
       "    </tr>\n",
       "  </tbody>\n",
       "</table>\n",
       "</div>"
      ],
      "text/plain": [
       "          Player Primary Pos           Evaluator Report Date OFP  \\\n",
       "0      CJ Abrams          SS         Keanan Lamb  06/01/2019  50   \n",
       "1   Albert Abreu           P  Mauricio Rubio Jr.  08/27/2016  60   \n",
       "2  Osvaldo Abreu          SS        Tucker Blair  05/04/2015  40   \n",
       "3   Albert Abreu           P         Grant Jones  00/00/0000  60   \n",
       "4   Albert Abreu           P       John Eshleman  12/13/2017  60   \n",
       "\n",
       "                                    Player_Page_Link  \n",
       "0  https://legacy.baseballprospectus.com/prospect...  \n",
       "1  https://legacy.baseballprospectus.com/prospect...  \n",
       "2  https://legacy.baseballprospectus.com/prospect...  \n",
       "3  https://legacy.baseballprospectus.com/prospect...  \n",
       "4  https://legacy.baseballprospectus.com/prospect...  "
      ]
     },
     "execution_count": 7,
     "metadata": {},
     "output_type": "execute_result"
    }
   ],
   "source": [
    "initial_df.head()"
   ]
  },
  {
   "cell_type": "code",
   "execution_count": 8,
   "metadata": {},
   "outputs": [
    {
     "data": {
      "text/plain": [
       "(1074, 6)"
      ]
     },
     "execution_count": 8,
     "metadata": {},
     "output_type": "execute_result"
    }
   ],
   "source": [
    "initial_df.shape"
   ]
  },
  {
   "cell_type": "markdown",
   "metadata": {},
   "source": [
    "Now I can move on to scraping pitcher reports using that list of links.  Pitchers will be ones that have 'eyewitness_pit' in the link (as opposed to 'eyewitness_bat' for hitters)."
   ]
  },
  {
   "cell_type": "markdown",
   "metadata": {},
   "source": [
    "## Scouting of Pitcher Reports"
   ]
  },
  {
   "cell_type": "markdown",
   "metadata": {},
   "source": [
    "Using [Jose Leclerc's page as a reference](https://legacy.baseballprospectus.com/prospects/eyewitness_pit.php?reportid=112), these are the fields I'll want in my data:\n",
    "- Initial Info: Name, Born, Bats, Throws, Height, Weight\n",
    "- Eval Info: Evaluator, Report Date, Affiliate, Dates Seen, OFP, MLB ETA\n",
    "- Mechanics\n",
    "- Pitch Data: For each pitch, Type, Future Grade, Sitting Velocity, Peak Velocity, Report\n",
    "- Overall Report"
   ]
  },
  {
   "cell_type": "code",
   "execution_count": null,
   "metadata": {},
   "outputs": [],
   "source": []
  }
 ],
 "metadata": {
  "kernelspec": {
   "display_name": "Python [conda env:metis] *",
   "language": "python",
   "name": "conda-env-metis-py"
  },
  "language_info": {
   "codemirror_mode": {
    "name": "ipython",
    "version": 3
   },
   "file_extension": ".py",
   "mimetype": "text/x-python",
   "name": "python",
   "nbconvert_exporter": "python",
   "pygments_lexer": "ipython3",
   "version": "3.8.6"
  }
 },
 "nbformat": 4,
 "nbformat_minor": 4
}
